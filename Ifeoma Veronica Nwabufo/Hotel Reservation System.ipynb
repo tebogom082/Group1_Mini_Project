{
 "cells": [
  {
   "cell_type": "code",
   "execution_count": 78,
   "metadata": {},
   "outputs": [],
   "source": [
    "import requests\n",
    "import json\n",
    "import re\n",
    "import pandas as pd"
   ]
  },
  {
   "cell_type": "code",
   "execution_count": 79,
   "metadata": {},
   "outputs": [
    {
     "name": "stdout",
     "output_type": "stream",
     "text": [
      "Welcome to Women Techsters Hotel Reservation System.\n",
      "\n",
      "Please, enter in your search location\n",
      "Bombay\n"
     ]
    }
   ],
   "source": [
    "def hotel_query():\n",
    "    print(\"Welcome to Women Techsters Hotel Reservation System.\\n\")\n",
    "    print(\"Please, enter in your search location\")\n",
    "    location=str(input())\n",
    "    return \n",
    "hotel_query()"
   ]
  },
  {
   "cell_type": "markdown",
   "metadata": {},
   "source": [
    "## Locations/Auto Complete"
   ]
  },
  {
   "cell_type": "code",
   "execution_count": 80,
   "metadata": {},
   "outputs": [],
   "source": [
    "import requests\n",
    "\n",
    "url = \"https://travel-advisor.p.rapidapi.com/locations/auto-complete\"\n",
    "\n",
    "querystring = {\"query\":hotel_query,\"lang\":\"en_US\",\"units\":\"km\"}\n",
    "\n",
    "headers = {\n",
    "    'x-rapidapi-key': Enter Your Keys,\n",
    "    'x-rapidapi-host': \"travel-advisor.p.rapidapi.com\"\n",
    "    }\n",
    "\n",
    "response = requests.request(\"GET\", url, headers=headers, params=querystring)"
   ]
  },
  {
   "cell_type": "code",
   "execution_count": 81,
   "metadata": {},
   "outputs": [
    {
     "name": "stdout",
     "output_type": "stream",
     "text": [
      "187507 43.370777 -8.39775\n"
     ]
    }
   ],
   "source": [
    "result_auto_complete=json.loads(response.text)\n",
    "location_id=result_auto_complete[\"data\"][0]['result_object']['location_id']\n",
    "latitude=result_auto_complete[\"data\"][0]['result_object']['latitude']\n",
    "longitude=result_auto_complete[\"data\"][0]['result_object']['longitude']\n",
    "print(location_id,latitude,longitude)"
   ]
  },
  {
   "cell_type": "markdown",
   "metadata": {},
   "source": [
    "## Hotels/List\n",
    "\n",
    "https://rapidapi.com/apidojo/api/travel-advisor/"
   ]
  },
  {
   "cell_type": "code",
   "execution_count": 82,
   "metadata": {},
   "outputs": [],
   "source": [
    "import requests\n",
    "\n",
    "url = \"https://travel-advisor.p.rapidapi.com/hotels/list\"\n",
    "\n",
    "querystring = {\"location_id\":location_id,\"adults\":\"1\",\"rooms\":\"1\",\"nights\":\"2\",\"offset\":\"0\",\"currency\":\"USD\",\"order\":\"asc\",\"limit\":\"30\",\"sort\":\"recommended\",\"lang\":\"en_US\"}\n",
    "\n",
    "headers = {\n",
    "    'x-rapidapi-key': Enter Your Keys,\n",
    "    'x-rapidapi-host': \"travel-advisor.p.rapidapi.com\"\n",
    "    }\n",
    "\n",
    "response_list = requests.request(\"GET\", url, headers=headers, params=querystring)"
   ]
  },
  {
   "cell_type": "code",
   "execution_count": 83,
   "metadata": {},
   "outputs": [],
   "source": [
    "result_list=json.loads(response_list.text)\n",
    "# print(result_list)"
   ]
  },
  {
   "cell_type": "code",
   "execution_count": 86,
   "metadata": {},
   "outputs": [],
   "source": [
    "result_list=json.loads(response_list.text)\n",
    "store={}\n",
    "for i in range(len(result_list)-1):\n",
    "    location_list_id=result_list[\"data\"][i]['location_id']\n",
    "    name=result_list[\"data\"][i]['name']\n",
    "    location=result_list[\"data\"][i]['location_string']\n",
    "    store[location_list_id] = {\"Location ID\":location_list_id,\"Name\": name,\"Location\":location}"
   ]
  },
  {
   "cell_type": "code",
   "execution_count": 87,
   "metadata": {},
   "outputs": [
    {
     "data": {
      "text/html": [
       "<div>\n",
       "<style scoped>\n",
       "    .dataframe tbody tr th:only-of-type {\n",
       "        vertical-align: middle;\n",
       "    }\n",
       "\n",
       "    .dataframe tbody tr th {\n",
       "        vertical-align: top;\n",
       "    }\n",
       "\n",
       "    .dataframe thead th {\n",
       "        text-align: right;\n",
       "    }\n",
       "</style>\n",
       "<table border=\"1\" class=\"dataframe\">\n",
       "  <thead>\n",
       "    <tr style=\"text-align: right;\">\n",
       "      <th></th>\n",
       "      <th>Location ID</th>\n",
       "      <th>Name</th>\n",
       "      <th>Location</th>\n",
       "    </tr>\n",
       "  </thead>\n",
       "  <tbody>\n",
       "    <tr>\n",
       "      <th>1802205</th>\n",
       "      <td>1802205</td>\n",
       "      <td>Apartamentos Attica21 Portazgo</td>\n",
       "      <td>La Coruna, Province of A Coruna, Galicia</td>\n",
       "    </tr>\n",
       "    <tr>\n",
       "      <th>278320</th>\n",
       "      <td>278320</td>\n",
       "      <td>Hotel Zenit Coruna</td>\n",
       "      <td>La Coruna, Province of A Coruna, Galicia</td>\n",
       "    </tr>\n",
       "  </tbody>\n",
       "</table>\n",
       "</div>"
      ],
      "text/plain": [
       "        Location ID                            Name  \\\n",
       "1802205     1802205  Apartamentos Attica21 Portazgo   \n",
       "278320       278320              Hotel Zenit Coruna   \n",
       "\n",
       "                                         Location  \n",
       "1802205  La Coruna, Province of A Coruna, Galicia  \n",
       "278320   La Coruna, Province of A Coruna, Galicia  "
      ]
     },
     "execution_count": 87,
     "metadata": {},
     "output_type": "execute_result"
    }
   ],
   "source": [
    "pd.DataFrame(store).T"
   ]
  },
  {
   "cell_type": "code",
   "execution_count": 89,
   "metadata": {},
   "outputs": [
    {
     "data": {
      "text/plain": [
       "dict_values([[], []])"
      ]
     },
     "execution_count": 89,
     "metadata": {},
     "output_type": "execute_result"
    }
   ],
   "source": [
    "result_list[\"data\"][1]['business_listings'].values()#['mobile_contacts'].count()"
   ]
  },
  {
   "cell_type": "code",
   "execution_count": null,
   "metadata": {},
   "outputs": [],
   "source": []
  }
 ],
 "metadata": {
  "kernelspec": {
   "display_name": "Python 3",
   "language": "python",
   "name": "python3"
  },
  "language_info": {
   "codemirror_mode": {
    "name": "ipython",
    "version": 3
   },
   "file_extension": ".py",
   "mimetype": "text/x-python",
   "name": "python",
   "nbconvert_exporter": "python",
   "pygments_lexer": "ipython3",
   "version": "3.7.3"
  }
 },
 "nbformat": 4,
 "nbformat_minor": 2
}
